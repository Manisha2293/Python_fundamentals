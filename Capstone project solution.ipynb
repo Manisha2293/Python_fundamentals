{
 "cells": [
  {
   "cell_type": "code",
   "execution_count": 11,
   "id": "0cc30313-cbbf-48fb-a2ef-21bbb6ceb9d6",
   "metadata": {},
   "outputs": [],
   "source": [
    "import pandas as pd\n",
    "import numpy as np"
   ]
  },
  {
   "cell_type": "code",
   "execution_count": 127,
   "id": "9ca24de0-675b-48d1-ab5b-b21e796bffb4",
   "metadata": {},
   "outputs": [],
   "source": [
    "# Table 1 (Project Dataframe)\n",
    "Project = {\n",
    "    'ID': ['A001','A002','A003','A004','A005','A002','A005','A003','A001','A003','A001','A004','A004','A005'],\n",
    "    'Project': ['Project1', 'Project2','Project3', 'Project4','Project5', 'Project6','Project7','Project8', 'Project9','Project10','Project11','Project12','Project13','Project14'],\n",
    "    'Cost': [1002000,2000000,4500000,5500000,None,680000,400000,350000,None,300000,2000000,1000000,3000000,200000],\n",
    "    'Status': ['Finished','Ongoing','Finished','Ongoing','Finished','Failed','Finished','Failed','Ongoing','Finished','Failed','Ongoing','Finished','Finished']\n",
    "}\n",
    "df1 = pd.DataFrame(Project)"
   ]
  },
  {
   "cell_type": "code",
   "execution_count": 129,
   "id": "d2cc5fe6-938a-47cb-88cc-df6ff3122736",
   "metadata": {},
   "outputs": [],
   "source": [
    "df1.to_csv('project_data.csv', index=False)"
   ]
  },
  {
   "cell_type": "code",
   "execution_count": 131,
   "id": "b7b8f30a-c812-4bef-b670-2c46f89c8ba1",
   "metadata": {},
   "outputs": [
    {
     "name": "stdout",
     "output_type": "stream",
     "text": [
      "      ID    Project      Cost    Status\n",
      "0   A001   Project1 1002000.0  Finished\n",
      "1   A002   Project2 2000000.0   Ongoing\n",
      "2   A003   Project3 4500000.0  Finished\n",
      "3   A004   Project4 5500000.0   Ongoing\n",
      "4   A005   Project5       NaN  Finished\n",
      "5   A002   Project6  680000.0    Failed\n",
      "6   A005   Project7  400000.0  Finished\n",
      "7   A003   Project8  350000.0    Failed\n",
      "8   A001   Project9       NaN   Ongoing\n",
      "9   A003  Project10  300000.0  Finished\n",
      "10  A001  Project11 2000000.0    Failed\n",
      "11  A004  Project12 1000000.0   Ongoing\n",
      "12  A004  Project13 3000000.0  Finished\n",
      "13  A005  Project14  200000.0  Finished\n"
     ]
    }
   ],
   "source": [
    "print(df1)"
   ]
  },
  {
   "cell_type": "code",
   "execution_count": 133,
   "id": "41abb76a-d29f-48de-b037-eeb90a6b6937",
   "metadata": {},
   "outputs": [],
   "source": [
    "# Table 2 (EMployee Datarame)\n",
    "Employee = {\n",
    "    'ID': ['A001','A002','A003','A004','A005'],\n",
    "    'Name': ['John Alter','Alice Luxumberg','Tom Sabestine','Nina Adgra','Amy Johny'],\n",
    "    'Gender': ['M','F','M','F','F'],\n",
    "    'City': ['Paris','London','Berlin','Newyork','Madrid'],\n",
    "    'Age': [25,7,29,31,30]\n",
    "}\n",
    "df2 = pd.DataFrame(Employee)"
   ]
  },
  {
   "cell_type": "code",
   "execution_count": 135,
   "id": "e6e15bcd-7607-48e1-b4ed-05680dbd20b0",
   "metadata": {},
   "outputs": [],
   "source": [
    "df2.to_csv('project_data.csv', index=False)"
   ]
  },
  {
   "cell_type": "code",
   "execution_count": 137,
   "id": "c55d8920-d89c-44d0-92aa-ab860b927474",
   "metadata": {},
   "outputs": [
    {
     "name": "stdout",
     "output_type": "stream",
     "text": [
      "     ID             Name Gender     City  Age\n",
      "0  A001       John Alter      M    Paris   25\n",
      "1  A002  Alice Luxumberg      F   London    7\n",
      "2  A003    Tom Sabestine      M   Berlin   29\n",
      "3  A004       Nina Adgra      F  Newyork   31\n",
      "4  A005        Amy Johny      F   Madrid   30\n"
     ]
    }
   ],
   "source": [
    "print(df2)"
   ]
  },
  {
   "cell_type": "code",
   "execution_count": 139,
   "id": "0fe1b200-4a44-490d-a149-5155a9d03454",
   "metadata": {},
   "outputs": [],
   "source": [
    "# Table 3 (Seniority level Dataframe)\n",
    "Seniority_Level = {\n",
    "    'ID': ['A001','A002','A003','A004','A005'],\n",
    "    'Designation Level': [2,2,3,2,3]\n",
    "}\n",
    "df3 = pd.DataFrame(Seniority_Level)"
   ]
  },
  {
   "cell_type": "code",
   "execution_count": 141,
   "id": "878095d5-ec8a-49de-821c-71903f1b672b",
   "metadata": {},
   "outputs": [],
   "source": [
    "df3.to_csv('project_data.csv', index=False)"
   ]
  },
  {
   "cell_type": "code",
   "execution_count": 143,
   "id": "254f0c4f-2429-49b3-9101-c32a0e0bc0a8",
   "metadata": {},
   "outputs": [
    {
     "name": "stdout",
     "output_type": "stream",
     "text": [
      "     ID  Designation Level\n",
      "0  A001                  2\n",
      "1  A002                  2\n",
      "2  A003                  3\n",
      "3  A004                  2\n",
      "4  A005                  3\n"
     ]
    }
   ],
   "source": [
    "print(df3)"
   ]
  },
  {
   "cell_type": "code",
   "execution_count": 145,
   "id": "c205f862-527e-4f08-80b0-499daa2891b5",
   "metadata": {},
   "outputs": [],
   "source": [
    "import numpy as np"
   ]
  },
  {
   "cell_type": "code",
   "execution_count": 149,
   "id": "0bd1fb26-ea44-4cac-894b-76a1c8a31d04",
   "metadata": {},
   "outputs": [
    {
     "name": "stdout",
     "output_type": "stream",
     "text": [
      "      ID    Project      Cost    Status\n",
      "0   A001   Project1 1002000.0  Finished\n",
      "1   A002   Project2 2000000.0   Ongoing\n",
      "2   A003   Project3 4500000.0  Finished\n",
      "3   A004   Project4 5500000.0   Ongoing\n",
      "4   A005   Project5 3250500.0  Finished\n",
      "5   A002   Project6  680000.0    Failed\n",
      "6   A005   Project7  400000.0  Finished\n",
      "7   A003   Project8  350000.0    Failed\n",
      "8   A001   Project9 2061714.3   Ongoing\n",
      "9   A003  Project10  300000.0  Finished\n",
      "10  A001  Project11 2000000.0    Failed\n",
      "11  A004  Project12 1000000.0   Ongoing\n",
      "12  A004  Project13 3000000.0  Finished\n",
      "13  A005  Project14  200000.0  Finished\n"
     ]
    }
   ],
   "source": [
    "#compute these missing values in cost column by running average\n",
    "running_sum = 0\n",
    "count = 0\n",
    "\n",
    "for i in range(len(df1)):\n",
    "    if pd.isna(df1.loc[i, 'Cost']): \n",
    "        if count > 0:\n",
    "            df1.loc[i, 'Cost'] = running_sum / count \n",
    "    else:\n",
    "        running_sum += df1.loc[i, 'Cost']\n",
    "        count = count + 1\n",
    "\n",
    "pd.set_option('display.float_format', '{:.1f}'.format)\n",
    "print(df1)"
   ]
  },
  {
   "cell_type": "code",
   "execution_count": 151,
   "id": "d5891a43-a77f-404d-90c2-07ea14c41cb9",
   "metadata": {},
   "outputs": [
    {
     "name": "stdout",
     "output_type": "stream",
     "text": [
      "     ID             Name Gender     City  Age\n",
      "0  A001       John Alter      M    Paris   25\n",
      "1  A002  Alice Luxumberg      F   London    7\n",
      "2  A003    Tom Sabestine      M   Berlin   29\n",
      "3  A004       Nina Adgra      F  Newyork   31\n",
      "4  A005        Amy Johny      F   Madrid   30\n"
     ]
    }
   ],
   "source": [
    "print(df2)"
   ]
  },
  {
   "cell_type": "code",
   "execution_count": 155,
   "id": "45a108ab-96d0-4138-9e71-2a71c3924c40",
   "metadata": {},
   "outputs": [],
   "source": [
    "#Split the name column in the Employee dataframe \n",
    "df2[['First Name', 'Last Name']] = df2['Name'].str.split(' ', expand=True)"
   ]
  },
  {
   "cell_type": "code",
   "execution_count": 157,
   "id": "ecda3d1d-2e77-474d-a07e-260b199263ab",
   "metadata": {},
   "outputs": [],
   "source": [
    "#remove the older “name” column.\n",
    "df2 = df2.drop(columns=['Name'])"
   ]
  },
  {
   "cell_type": "code",
   "execution_count": 159,
   "id": "eaf9f29b-0f0b-47c9-8ec8-8020d0640bd3",
   "metadata": {},
   "outputs": [
    {
     "name": "stdout",
     "output_type": "stream",
     "text": [
      "     ID Gender     City  Age First Name  Last Name\n",
      "0  A001      M    Paris   25       John      Alter\n",
      "1  A002      F   London    7      Alice  Luxumberg\n",
      "2  A003      M   Berlin   29        Tom  Sabestine\n",
      "3  A004      F  Newyork   31       Nina      Adgra\n",
      "4  A005      F   Madrid   30        Amy      Johny\n"
     ]
    }
   ],
   "source": [
    "print(df2)"
   ]
  },
  {
   "cell_type": "code",
   "execution_count": 161,
   "id": "db96716e-185d-4c22-838d-b7a5f0b21b8e",
   "metadata": {},
   "outputs": [],
   "source": [
    "#Join all three dataframes in one single dataframe “Final”\n",
    "\n",
    "Final = pd.merge(df1, df2, on='ID').merge(df3, on='ID')"
   ]
  },
  {
   "cell_type": "code",
   "execution_count": 163,
   "id": "7bf23b4f-ac9a-4ec0-a94b-9633dfe7a0d3",
   "metadata": {},
   "outputs": [
    {
     "name": "stdout",
     "output_type": "stream",
     "text": [
      "      ID    Project      Cost    Status Gender     City  Age First Name  \\\n",
      "0   A001   Project1 1002000.0  Finished      M    Paris   25       John   \n",
      "1   A002   Project2 2000000.0   Ongoing      F   London    7      Alice   \n",
      "2   A003   Project3 4500000.0  Finished      M   Berlin   29        Tom   \n",
      "3   A004   Project4 5500000.0   Ongoing      F  Newyork   31       Nina   \n",
      "4   A005   Project5 3250500.0  Finished      F   Madrid   30        Amy   \n",
      "5   A002   Project6  680000.0    Failed      F   London    7      Alice   \n",
      "6   A005   Project7  400000.0  Finished      F   Madrid   30        Amy   \n",
      "7   A003   Project8  350000.0    Failed      M   Berlin   29        Tom   \n",
      "8   A001   Project9 2061714.3   Ongoing      M    Paris   25       John   \n",
      "9   A003  Project10  300000.0  Finished      M   Berlin   29        Tom   \n",
      "10  A001  Project11 2000000.0    Failed      M    Paris   25       John   \n",
      "11  A004  Project12 1000000.0   Ongoing      F  Newyork   31       Nina   \n",
      "12  A004  Project13 3000000.0  Finished      F  Newyork   31       Nina   \n",
      "13  A005  Project14  200000.0  Finished      F   Madrid   30        Amy   \n",
      "\n",
      "    Last Name  Designation Level  \n",
      "0       Alter                  2  \n",
      "1   Luxumberg                  2  \n",
      "2   Sabestine                  3  \n",
      "3       Adgra                  2  \n",
      "4       Johny                  3  \n",
      "5   Luxumberg                  2  \n",
      "6       Johny                  3  \n",
      "7   Sabestine                  3  \n",
      "8       Alter                  2  \n",
      "9   Sabestine                  3  \n",
      "10      Alter                  2  \n",
      "11      Adgra                  2  \n",
      "12      Adgra                  2  \n",
      "13      Johny                  3  \n"
     ]
    }
   ],
   "source": [
    "print(Final)"
   ]
  },
  {
   "cell_type": "code",
   "execution_count": 165,
   "id": "120da0a5-c1d6-4fa4-85a4-c2f22e53b690",
   "metadata": {},
   "outputs": [],
   "source": [
    "#Add a new bonus column in the Final dataframe for finished project\n",
    "Final['bonus'] = Final.apply(\n",
    "    lambda row: row['Cost'] * 0.05 if row['Status'] == 'Finished' else 0,\n",
    "    axis=1\n",
    ")"
   ]
  },
  {
   "cell_type": "code",
   "execution_count": 167,
   "id": "f5e6f568-cde4-4599-a4b0-1da9ac63b027",
   "metadata": {},
   "outputs": [
    {
     "name": "stdout",
     "output_type": "stream",
     "text": [
      "      ID    Project      Cost    Status Gender     City  Age First Name  \\\n",
      "0   A001   Project1 1002000.0  Finished      M    Paris   25       John   \n",
      "1   A002   Project2 2000000.0   Ongoing      F   London    7      Alice   \n",
      "2   A003   Project3 4500000.0  Finished      M   Berlin   29        Tom   \n",
      "3   A004   Project4 5500000.0   Ongoing      F  Newyork   31       Nina   \n",
      "4   A005   Project5 3250500.0  Finished      F   Madrid   30        Amy   \n",
      "5   A002   Project6  680000.0    Failed      F   London    7      Alice   \n",
      "6   A005   Project7  400000.0  Finished      F   Madrid   30        Amy   \n",
      "7   A003   Project8  350000.0    Failed      M   Berlin   29        Tom   \n",
      "8   A001   Project9 2061714.3   Ongoing      M    Paris   25       John   \n",
      "9   A003  Project10  300000.0  Finished      M   Berlin   29        Tom   \n",
      "10  A001  Project11 2000000.0    Failed      M    Paris   25       John   \n",
      "11  A004  Project12 1000000.0   Ongoing      F  Newyork   31       Nina   \n",
      "12  A004  Project13 3000000.0  Finished      F  Newyork   31       Nina   \n",
      "13  A005  Project14  200000.0  Finished      F   Madrid   30        Amy   \n",
      "\n",
      "    Last Name  Designation Level    bonus  \n",
      "0       Alter                  2  50100.0  \n",
      "1   Luxumberg                  2      0.0  \n",
      "2   Sabestine                  3 225000.0  \n",
      "3       Adgra                  2      0.0  \n",
      "4       Johny                  3 162525.0  \n",
      "5   Luxumberg                  2      0.0  \n",
      "6       Johny                  3  20000.0  \n",
      "7   Sabestine                  3      0.0  \n",
      "8       Alter                  2      0.0  \n",
      "9   Sabestine                  3  15000.0  \n",
      "10      Alter                  2      0.0  \n",
      "11      Adgra                  2      0.0  \n",
      "12      Adgra                  2 150000.0  \n",
      "13      Johny                  3  10000.0  \n"
     ]
    }
   ],
   "source": [
    "print(Final)"
   ]
  },
  {
   "cell_type": "code",
   "execution_count": 177,
   "id": "7cb529f5-3fb0-4514-815d-7c211222ddd4",
   "metadata": {},
   "outputs": [],
   "source": [
    "#Demote the designation level by 1, whose projects have status “failed\"\n",
    "\n",
    "Final['Designation Level'] = Final.apply(\n",
    "    lambda row: row['Designation Level'] - 1 if row['Status'] == 'Failed' else row['Designation Level'],\n",
    "    axis=1\n",
    ")"
   ]
  },
  {
   "cell_type": "code",
   "execution_count": 179,
   "id": "f0575168-1ffb-474e-8dd5-a87c9c5c0f21",
   "metadata": {},
   "outputs": [],
   "source": [
    "#Delete the employees record whose designation level is above 4.\n",
    "Final = Final[Final['Designation Level'] <= 4]"
   ]
  },
  {
   "cell_type": "code",
   "execution_count": 181,
   "id": "6b85830a-0c9c-4ee6-80d5-28e8f8f1a005",
   "metadata": {},
   "outputs": [
    {
     "name": "stdout",
     "output_type": "stream",
     "text": [
      "      ID    Project      Cost    Status Gender     City  Age First Name  \\\n",
      "0   A001   Project1 1002000.0  Finished      M    Paris   25       John   \n",
      "1   A002   Project2 2000000.0   Ongoing      F   London    7      Alice   \n",
      "2   A003   Project3 4500000.0  Finished      M   Berlin   29        Tom   \n",
      "3   A004   Project4 5500000.0   Ongoing      F  Newyork   31       Nina   \n",
      "4   A005   Project5 3250500.0  Finished      F   Madrid   30        Amy   \n",
      "5   A002   Project6  680000.0    Failed      F   London    7      Alice   \n",
      "6   A005   Project7  400000.0  Finished      F   Madrid   30        Amy   \n",
      "7   A003   Project8  350000.0    Failed      M   Berlin   29        Tom   \n",
      "8   A001   Project9 2061714.3   Ongoing      M    Paris   25       John   \n",
      "9   A003  Project10  300000.0  Finished      M   Berlin   29        Tom   \n",
      "10  A001  Project11 2000000.0    Failed      M    Paris   25       John   \n",
      "11  A004  Project12 1000000.0   Ongoing      F  Newyork   31       Nina   \n",
      "12  A004  Project13 3000000.0  Finished      F  Newyork   31       Nina   \n",
      "13  A005  Project14  200000.0  Finished      F   Madrid   30        Amy   \n",
      "\n",
      "    Last Name  Designation Level    bonus  \n",
      "0       Alter                  2  50100.0  \n",
      "1   Luxumberg                  2      0.0  \n",
      "2   Sabestine                  3 225000.0  \n",
      "3       Adgra                  2      0.0  \n",
      "4       Johny                  3 162525.0  \n",
      "5   Luxumberg                  0      0.0  \n",
      "6       Johny                  3  20000.0  \n",
      "7   Sabestine                  1      0.0  \n",
      "8       Alter                  2      0.0  \n",
      "9   Sabestine                  3  15000.0  \n",
      "10      Alter                  0      0.0  \n",
      "11      Adgra                  2      0.0  \n",
      "12      Adgra                  2 150000.0  \n",
      "13      Johny                  3  10000.0  \n"
     ]
    }
   ],
   "source": [
    "print(Final)"
   ]
  },
  {
   "cell_type": "code",
   "execution_count": 183,
   "id": "83ce0f14-6c61-49c2-b4f7-4097e9903000",
   "metadata": {},
   "outputs": [],
   "source": [
    "#Add “Mr.” and “Mrs.” to the first name column \n",
    "\n",
    "Final['First Name'] = Final.apply(\n",
    "    lambda row: 'Mr. ' + row['First Name'] if row['Gender'] == 'M' else 'Mrs. ' + row['First Name'],\n",
    "    axis=1\n",
    ")"
   ]
  },
  {
   "cell_type": "code",
   "execution_count": 185,
   "id": "308df784-eebe-454e-a0e8-7107b369ebcf",
   "metadata": {},
   "outputs": [
    {
     "name": "stdout",
     "output_type": "stream",
     "text": [
      "      ID    Project      Cost    Status Gender     City  Age  First Name  \\\n",
      "0   A001   Project1 1002000.0  Finished      M    Paris   25    Mr. John   \n",
      "1   A002   Project2 2000000.0   Ongoing      F   London    7  Mrs. Alice   \n",
      "2   A003   Project3 4500000.0  Finished      M   Berlin   29     Mr. Tom   \n",
      "3   A004   Project4 5500000.0   Ongoing      F  Newyork   31   Mrs. Nina   \n",
      "4   A005   Project5 3250500.0  Finished      F   Madrid   30    Mrs. Amy   \n",
      "5   A002   Project6  680000.0    Failed      F   London    7  Mrs. Alice   \n",
      "6   A005   Project7  400000.0  Finished      F   Madrid   30    Mrs. Amy   \n",
      "7   A003   Project8  350000.0    Failed      M   Berlin   29     Mr. Tom   \n",
      "8   A001   Project9 2061714.3   Ongoing      M    Paris   25    Mr. John   \n",
      "9   A003  Project10  300000.0  Finished      M   Berlin   29     Mr. Tom   \n",
      "10  A001  Project11 2000000.0    Failed      M    Paris   25    Mr. John   \n",
      "11  A004  Project12 1000000.0   Ongoing      F  Newyork   31   Mrs. Nina   \n",
      "12  A004  Project13 3000000.0  Finished      F  Newyork   31   Mrs. Nina   \n",
      "13  A005  Project14  200000.0  Finished      F   Madrid   30    Mrs. Amy   \n",
      "\n",
      "    Last Name  Designation Level    bonus  \n",
      "0       Alter                  2  50100.0  \n",
      "1   Luxumberg                  2      0.0  \n",
      "2   Sabestine                  3 225000.0  \n",
      "3       Adgra                  2      0.0  \n",
      "4       Johny                  3 162525.0  \n",
      "5   Luxumberg                  0      0.0  \n",
      "6       Johny                  3  20000.0  \n",
      "7   Sabestine                  1      0.0  \n",
      "8       Alter                  2      0.0  \n",
      "9   Sabestine                  3  15000.0  \n",
      "10      Alter                  0      0.0  \n",
      "11      Adgra                  2      0.0  \n",
      "12      Adgra                  2 150000.0  \n",
      "13      Johny                  3  10000.0  \n"
     ]
    }
   ],
   "source": [
    "print(Final)"
   ]
  },
  {
   "cell_type": "code",
   "execution_count": 187,
   "id": "1ed3f967-2b6c-483c-bd5e-9b161b91d4c3",
   "metadata": {},
   "outputs": [],
   "source": [
    "# drop the gender column.\n",
    "Final = Final.drop(columns=['Gender'])"
   ]
  },
  {
   "cell_type": "code",
   "execution_count": 189,
   "id": "8e1a8cfe-8079-4773-9fd9-6caf872793ec",
   "metadata": {},
   "outputs": [
    {
     "name": "stdout",
     "output_type": "stream",
     "text": [
      "      ID    Project      Cost    Status     City  Age  First Name  Last Name  \\\n",
      "0   A001   Project1 1002000.0  Finished    Paris   25    Mr. John      Alter   \n",
      "1   A002   Project2 2000000.0   Ongoing   London    7  Mrs. Alice  Luxumberg   \n",
      "2   A003   Project3 4500000.0  Finished   Berlin   29     Mr. Tom  Sabestine   \n",
      "3   A004   Project4 5500000.0   Ongoing  Newyork   31   Mrs. Nina      Adgra   \n",
      "4   A005   Project5 3250500.0  Finished   Madrid   30    Mrs. Amy      Johny   \n",
      "5   A002   Project6  680000.0    Failed   London    7  Mrs. Alice  Luxumberg   \n",
      "6   A005   Project7  400000.0  Finished   Madrid   30    Mrs. Amy      Johny   \n",
      "7   A003   Project8  350000.0    Failed   Berlin   29     Mr. Tom  Sabestine   \n",
      "8   A001   Project9 2061714.3   Ongoing    Paris   25    Mr. John      Alter   \n",
      "9   A003  Project10  300000.0  Finished   Berlin   29     Mr. Tom  Sabestine   \n",
      "10  A001  Project11 2000000.0    Failed    Paris   25    Mr. John      Alter   \n",
      "11  A004  Project12 1000000.0   Ongoing  Newyork   31   Mrs. Nina      Adgra   \n",
      "12  A004  Project13 3000000.0  Finished  Newyork   31   Mrs. Nina      Adgra   \n",
      "13  A005  Project14  200000.0  Finished   Madrid   30    Mrs. Amy      Johny   \n",
      "\n",
      "    Designation Level    bonus  \n",
      "0                   2  50100.0  \n",
      "1                   2      0.0  \n",
      "2                   3 225000.0  \n",
      "3                   2      0.0  \n",
      "4                   3 162525.0  \n",
      "5                   0      0.0  \n",
      "6                   3  20000.0  \n",
      "7                   1      0.0  \n",
      "8                   2      0.0  \n",
      "9                   3  15000.0  \n",
      "10                  0      0.0  \n",
      "11                  2      0.0  \n",
      "12                  2 150000.0  \n",
      "13                  3  10000.0  \n"
     ]
    }
   ],
   "source": [
    "print(Final)"
   ]
  },
  {
   "cell_type": "code",
   "execution_count": 191,
   "id": "5ba483d6-5d3b-48c6-85ea-37593591901d",
   "metadata": {},
   "outputs": [],
   "source": [
    "# Promote designation level by 1 for the employees whose age is more than 29 years\n",
    "Final['Designation Level'] = Final.apply(\n",
    "    lambda row: row['Designation Level'] + 1 if row['Age'] >= 29 else row['Designation Level'],\n",
    "    axis=1\n",
    ")"
   ]
  },
  {
   "cell_type": "code",
   "execution_count": 193,
   "id": "03266c25-9c5e-471a-bf79-72032acef9a3",
   "metadata": {},
   "outputs": [
    {
     "name": "stdout",
     "output_type": "stream",
     "text": [
      "      ID    Project      Cost    Status     City  Age  First Name  Last Name  \\\n",
      "0   A001   Project1 1002000.0  Finished    Paris   25    Mr. John      Alter   \n",
      "1   A002   Project2 2000000.0   Ongoing   London    7  Mrs. Alice  Luxumberg   \n",
      "2   A003   Project3 4500000.0  Finished   Berlin   29     Mr. Tom  Sabestine   \n",
      "3   A004   Project4 5500000.0   Ongoing  Newyork   31   Mrs. Nina      Adgra   \n",
      "4   A005   Project5 3250500.0  Finished   Madrid   30    Mrs. Amy      Johny   \n",
      "5   A002   Project6  680000.0    Failed   London    7  Mrs. Alice  Luxumberg   \n",
      "6   A005   Project7  400000.0  Finished   Madrid   30    Mrs. Amy      Johny   \n",
      "7   A003   Project8  350000.0    Failed   Berlin   29     Mr. Tom  Sabestine   \n",
      "8   A001   Project9 2061714.3   Ongoing    Paris   25    Mr. John      Alter   \n",
      "9   A003  Project10  300000.0  Finished   Berlin   29     Mr. Tom  Sabestine   \n",
      "10  A001  Project11 2000000.0    Failed    Paris   25    Mr. John      Alter   \n",
      "11  A004  Project12 1000000.0   Ongoing  Newyork   31   Mrs. Nina      Adgra   \n",
      "12  A004  Project13 3000000.0  Finished  Newyork   31   Mrs. Nina      Adgra   \n",
      "13  A005  Project14  200000.0  Finished   Madrid   30    Mrs. Amy      Johny   \n",
      "\n",
      "    Designation Level    bonus  \n",
      "0                   2  50100.0  \n",
      "1                   2      0.0  \n",
      "2                   4 225000.0  \n",
      "3                   3      0.0  \n",
      "4                   4 162525.0  \n",
      "5                   0      0.0  \n",
      "6                   4  20000.0  \n",
      "7                   2      0.0  \n",
      "8                   2      0.0  \n",
      "9                   4  15000.0  \n",
      "10                  0      0.0  \n",
      "11                  3      0.0  \n",
      "12                  3 150000.0  \n",
      "13                  4  10000.0  \n"
     ]
    }
   ],
   "source": [
    "print(Final)"
   ]
  },
  {
   "cell_type": "code",
   "execution_count": 195,
   "id": "b56a2368-ebec-422d-869f-c1bf2dc0e2e5",
   "metadata": {},
   "outputs": [],
   "source": [
    "#cost of all projects for each Employee \n",
    "TotalProjCost = Final.groupby(['ID', 'First Name'])['Cost'].sum().reset_index()\n",
    "TotalProjCost.rename(columns={'Cost': 'Total cost'}, inplace=True)"
   ]
  },
  {
   "cell_type": "code",
   "execution_count": 197,
   "id": "562c0551-2623-4996-abe7-d13c28dd75fd",
   "metadata": {},
   "outputs": [
    {
     "name": "stdout",
     "output_type": "stream",
     "text": [
      "     ID  First Name  Total cost\n",
      "0  A001    Mr. John   5063714.3\n",
      "1  A002  Mrs. Alice   2680000.0\n",
      "2  A003     Mr. Tom   5150000.0\n",
      "3  A004   Mrs. Nina   9500000.0\n",
      "4  A005    Mrs. Amy   3850500.0\n"
     ]
    }
   ],
   "source": [
    "print(TotalProjCost)"
   ]
  },
  {
   "cell_type": "code",
   "execution_count": 203,
   "id": "d07683b8-63e1-4d58-a6c4-04024c15d66c",
   "metadata": {},
   "outputs": [],
   "source": [
    "#all the employee details whose city name contains the letter “o” in it.\n",
    "filtered_employees = Final[Final['City'].str.contains('o', case=False)]"
   ]
  },
  {
   "cell_type": "code",
   "execution_count": 205,
   "id": "37f02d37-8c2b-472e-9e16-b0c1c8f7056e",
   "metadata": {},
   "outputs": [
    {
     "name": "stdout",
     "output_type": "stream",
     "text": [
      "      ID    Project      Cost    Status     City  Age  First Name  Last Name  \\\n",
      "1   A002   Project2 2000000.0   Ongoing   London    7  Mrs. Alice  Luxumberg   \n",
      "3   A004   Project4 5500000.0   Ongoing  Newyork   31   Mrs. Nina      Adgra   \n",
      "5   A002   Project6  680000.0    Failed   London    7  Mrs. Alice  Luxumberg   \n",
      "11  A004  Project12 1000000.0   Ongoing  Newyork   31   Mrs. Nina      Adgra   \n",
      "12  A004  Project13 3000000.0  Finished  Newyork   31   Mrs. Nina      Adgra   \n",
      "\n",
      "    Designation Level    bonus  \n",
      "1                   2      0.0  \n",
      "3                   3      0.0  \n",
      "5                   0      0.0  \n",
      "11                  3      0.0  \n",
      "12                  3 150000.0  \n"
     ]
    }
   ],
   "source": [
    "print(filtered_employees)"
   ]
  },
  {
   "cell_type": "code",
   "execution_count": null,
   "id": "7bcf9445-baa1-48c7-bd3b-abbc9226ce19",
   "metadata": {},
   "outputs": [],
   "source": []
  },
  {
   "cell_type": "code",
   "execution_count": null,
   "id": "9ba69cbc-1afa-4800-bbf1-cc773b8ad553",
   "metadata": {},
   "outputs": [],
   "source": []
  }
 ],
 "metadata": {
  "kernelspec": {
   "display_name": "Python [conda env:base] *",
   "language": "python",
   "name": "conda-base-py"
  },
  "language_info": {
   "codemirror_mode": {
    "name": "ipython",
    "version": 3
   },
   "file_extension": ".py",
   "mimetype": "text/x-python",
   "name": "python",
   "nbconvert_exporter": "python",
   "pygments_lexer": "ipython3",
   "version": "3.12.7"
  }
 },
 "nbformat": 4,
 "nbformat_minor": 5
}
